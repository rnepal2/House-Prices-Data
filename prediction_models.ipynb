{
 "cells": [
  {
   "cell_type": "markdown",
   "metadata": {},
   "source": [
    "### Regression Models Analysis & Prediction on Test Data\n",
    "\n",
    "In this notebook, we will take the cleaned train data exported from the house_price.ipynb notebook and analyse the regression models on the data. We will also compare the accuracy of different regression methods with cross_val_score and mean squared error."
   ]
  },
  {
   "cell_type": "code",
   "execution_count": 37,
   "metadata": {
    "collapsed": true
   },
   "outputs": [],
   "source": [
    "# standard python libraries\n",
    "import numpy as np\n",
    "import pandas as pd\n",
    "import matplotlib.pyplot as plt\n",
    "import seaborn as sns\n",
    "\n",
    "# sklearn methods\n",
    "from sklearn import linear_model\n",
    "from sklearn.ensemble import RandomForestRegressor\n",
    "from sklearn.metrics import mean_squared_error\n",
    "from sklearn import svm\n",
    "from sklearn.ensemble import GradientBoostingRegressor\n",
    "from sklearn.model_selection import cross_val_score\n",
    "from sklearn import model_selection\n",
    "from sklearn.model_selection import GridSearchCV"
   ]
  },
  {
   "cell_type": "code",
   "execution_count": 2,
   "metadata": {},
   "outputs": [
    {
     "data": {
      "text/html": [
       "<div>\n",
       "<style>\n",
       "    .dataframe thead tr:only-child th {\n",
       "        text-align: right;\n",
       "    }\n",
       "\n",
       "    .dataframe thead th {\n",
       "        text-align: left;\n",
       "    }\n",
       "\n",
       "    .dataframe tbody tr th {\n",
       "        vertical-align: top;\n",
       "    }\n",
       "</style>\n",
       "<table border=\"1\" class=\"dataframe\">\n",
       "  <thead>\n",
       "    <tr style=\"text-align: right;\">\n",
       "      <th></th>\n",
       "      <th>Unnamed: 0</th>\n",
       "      <th>TotalBsmtSF</th>\n",
       "      <th>BsmtFinSF2</th>\n",
       "      <th>FullBath</th>\n",
       "      <th>SalePrice</th>\n",
       "      <th>KitchenAbvGr</th>\n",
       "      <th>MiscVal</th>\n",
       "      <th>EnclosedPorch</th>\n",
       "      <th>LotArea</th>\n",
       "      <th>1stFlrSF</th>\n",
       "      <th>...</th>\n",
       "      <th>Heating-Floor</th>\n",
       "      <th>Heating-GasA</th>\n",
       "      <th>Heating-GasW</th>\n",
       "      <th>Heating-Grav</th>\n",
       "      <th>Heating-OthW</th>\n",
       "      <th>Heating-Wall</th>\n",
       "      <th>ExterQual-Ex</th>\n",
       "      <th>ExterQual-Fa</th>\n",
       "      <th>ExterQual-Gd</th>\n",
       "      <th>ExterQual-TA</th>\n",
       "    </tr>\n",
       "  </thead>\n",
       "  <tbody>\n",
       "    <tr>\n",
       "      <th>0</th>\n",
       "      <td>0</td>\n",
       "      <td>856</td>\n",
       "      <td>0</td>\n",
       "      <td>2</td>\n",
       "      <td>5.319</td>\n",
       "      <td>1</td>\n",
       "      <td>0</td>\n",
       "      <td>0</td>\n",
       "      <td>8450</td>\n",
       "      <td>856</td>\n",
       "      <td>...</td>\n",
       "      <td>0</td>\n",
       "      <td>1</td>\n",
       "      <td>0</td>\n",
       "      <td>0</td>\n",
       "      <td>0</td>\n",
       "      <td>0</td>\n",
       "      <td>0</td>\n",
       "      <td>0</td>\n",
       "      <td>1</td>\n",
       "      <td>0</td>\n",
       "    </tr>\n",
       "    <tr>\n",
       "      <th>1</th>\n",
       "      <td>1</td>\n",
       "      <td>1262</td>\n",
       "      <td>0</td>\n",
       "      <td>2</td>\n",
       "      <td>5.259</td>\n",
       "      <td>1</td>\n",
       "      <td>0</td>\n",
       "      <td>0</td>\n",
       "      <td>9600</td>\n",
       "      <td>1262</td>\n",
       "      <td>...</td>\n",
       "      <td>0</td>\n",
       "      <td>1</td>\n",
       "      <td>0</td>\n",
       "      <td>0</td>\n",
       "      <td>0</td>\n",
       "      <td>0</td>\n",
       "      <td>0</td>\n",
       "      <td>0</td>\n",
       "      <td>0</td>\n",
       "      <td>1</td>\n",
       "    </tr>\n",
       "    <tr>\n",
       "      <th>2</th>\n",
       "      <td>2</td>\n",
       "      <td>920</td>\n",
       "      <td>0</td>\n",
       "      <td>2</td>\n",
       "      <td>5.349</td>\n",
       "      <td>1</td>\n",
       "      <td>0</td>\n",
       "      <td>0</td>\n",
       "      <td>11250</td>\n",
       "      <td>920</td>\n",
       "      <td>...</td>\n",
       "      <td>0</td>\n",
       "      <td>1</td>\n",
       "      <td>0</td>\n",
       "      <td>0</td>\n",
       "      <td>0</td>\n",
       "      <td>0</td>\n",
       "      <td>0</td>\n",
       "      <td>0</td>\n",
       "      <td>1</td>\n",
       "      <td>0</td>\n",
       "    </tr>\n",
       "    <tr>\n",
       "      <th>3</th>\n",
       "      <td>3</td>\n",
       "      <td>756</td>\n",
       "      <td>0</td>\n",
       "      <td>1</td>\n",
       "      <td>5.146</td>\n",
       "      <td>1</td>\n",
       "      <td>0</td>\n",
       "      <td>272</td>\n",
       "      <td>9550</td>\n",
       "      <td>961</td>\n",
       "      <td>...</td>\n",
       "      <td>0</td>\n",
       "      <td>1</td>\n",
       "      <td>0</td>\n",
       "      <td>0</td>\n",
       "      <td>0</td>\n",
       "      <td>0</td>\n",
       "      <td>0</td>\n",
       "      <td>0</td>\n",
       "      <td>0</td>\n",
       "      <td>1</td>\n",
       "    </tr>\n",
       "    <tr>\n",
       "      <th>4</th>\n",
       "      <td>4</td>\n",
       "      <td>1145</td>\n",
       "      <td>0</td>\n",
       "      <td>2</td>\n",
       "      <td>5.398</td>\n",
       "      <td>1</td>\n",
       "      <td>0</td>\n",
       "      <td>0</td>\n",
       "      <td>14260</td>\n",
       "      <td>1145</td>\n",
       "      <td>...</td>\n",
       "      <td>0</td>\n",
       "      <td>1</td>\n",
       "      <td>0</td>\n",
       "      <td>0</td>\n",
       "      <td>0</td>\n",
       "      <td>0</td>\n",
       "      <td>0</td>\n",
       "      <td>0</td>\n",
       "      <td>1</td>\n",
       "      <td>0</td>\n",
       "    </tr>\n",
       "  </tbody>\n",
       "</table>\n",
       "<p>5 rows × 49 columns</p>\n",
       "</div>"
      ],
      "text/plain": [
       "   Unnamed: 0  TotalBsmtSF  BsmtFinSF2  FullBath  SalePrice  KitchenAbvGr  \\\n",
       "0           0          856           0         2      5.319             1   \n",
       "1           1         1262           0         2      5.259             1   \n",
       "2           2          920           0         2      5.349             1   \n",
       "3           3          756           0         1      5.146             1   \n",
       "4           4         1145           0         2      5.398             1   \n",
       "\n",
       "   MiscVal  EnclosedPorch  LotArea  1stFlrSF      ...       Heating-Floor  \\\n",
       "0        0              0     8450       856      ...                   0   \n",
       "1        0              0     9600      1262      ...                   0   \n",
       "2        0              0    11250       920      ...                   0   \n",
       "3        0            272     9550       961      ...                   0   \n",
       "4        0              0    14260      1145      ...                   0   \n",
       "\n",
       "   Heating-GasA  Heating-GasW  Heating-Grav  Heating-OthW  Heating-Wall  \\\n",
       "0             1             0             0             0             0   \n",
       "1             1             0             0             0             0   \n",
       "2             1             0             0             0             0   \n",
       "3             1             0             0             0             0   \n",
       "4             1             0             0             0             0   \n",
       "\n",
       "   ExterQual-Ex  ExterQual-Fa  ExterQual-Gd  ExterQual-TA  \n",
       "0             0             0             1             0  \n",
       "1             0             0             0             1  \n",
       "2             0             0             1             0  \n",
       "3             0             0             0             1  \n",
       "4             0             0             1             0  \n",
       "\n",
       "[5 rows x 49 columns]"
      ]
     },
     "execution_count": 2,
     "metadata": {},
     "output_type": "execute_result"
    }
   ],
   "source": [
    "# Importing the dataframe exported after analysis and refinement from other Notebook\n",
    "\n",
    "df = pd.read_csv(\"df_model.csv\")\n",
    "df.head()"
   ]
  },
  {
   "cell_type": "code",
   "execution_count": 3,
   "metadata": {},
   "outputs": [
    {
     "name": "stdout",
     "output_type": "stream",
     "text": [
      "extra column that came across is dropped\n"
     ]
    }
   ],
   "source": [
    "# One extra unncessary column appeared here, let us drop that. (TODO: can fix that, while exporting data or importing here!)\n",
    "df.drop('Unnamed: 0', axis=1, inplace=True)\n",
    "print('extra column that came across is dropped')"
   ]
  },
  {
   "cell_type": "code",
   "execution_count": 4,
   "metadata": {},
   "outputs": [
    {
     "data": {
      "text/plain": [
       "Index(['TotalBsmtSF', 'BsmtFinSF2', 'FullBath', 'SalePrice', 'KitchenAbvGr',\n",
       "       'MiscVal', 'EnclosedPorch', 'LotArea', '1stFlrSF', 'YearBuilt',\n",
       "       'LowQualFinSF', 'MSSubClass', '3SsnPorch', 'LotFrontage', 'PoolArea',\n",
       "       'MoSold', 'Fireplaces', 'MasVnrArea', 'YearRemodAdd', 'OverallQual',\n",
       "       'OpenPorchSF', 'YrSold', 'BedroomAbvGr', 'OverallCond', 'BsmtHalfBath',\n",
       "       'BsmtFullBath', 'WoodDeckSF', 'GarageCars', 'GrLivArea', '2ndFlrSF',\n",
       "       'KitchenQual-Ex', 'KitchenQual-Fa', 'KitchenQual-Gd', 'KitchenQual-TA',\n",
       "       'BsmtQual-Ex', 'BsmtQual-Fa', 'BsmtQual-Gd', 'BsmtQual-TA',\n",
       "       'Heating-Floor', 'Heating-GasA', 'Heating-GasW', 'Heating-Grav',\n",
       "       'Heating-OthW', 'Heating-Wall', 'ExterQual-Ex', 'ExterQual-Fa',\n",
       "       'ExterQual-Gd', 'ExterQual-TA'],\n",
       "      dtype='object')"
      ]
     },
     "execution_count": 4,
     "metadata": {},
     "output_type": "execute_result"
    }
   ],
   "source": [
    "df.columns"
   ]
  },
  {
   "cell_type": "code",
   "execution_count": 5,
   "metadata": {
    "collapsed": true
   },
   "outputs": [],
   "source": [
    "# Separating 'SalePrice' column\n",
    "\n",
    "X_columns = df.columns.tolist()\n",
    "X_columns.remove('SalePrice')"
   ]
  },
  {
   "cell_type": "code",
   "execution_count": 6,
   "metadata": {
    "collapsed": true
   },
   "outputs": [],
   "source": [
    "# The input data are:\n",
    "\n",
    "X = df[X_columns]\n",
    "y = df['SalePrice']"
   ]
  },
  {
   "cell_type": "code",
   "execution_count": 7,
   "metadata": {},
   "outputs": [
    {
     "name": "stdout",
     "output_type": "stream",
     "text": [
      "Train data points:  1092\n",
      "Validation data points:  364\n"
     ]
    }
   ],
   "source": [
    "# The input data are:\n",
    "\n",
    "x_train_len = round(X.shape[0]*0.75)\n",
    "x_train = X[:x_train_len]\n",
    "x_validation = X[x_train_len:]\n",
    "y_train = y[:x_train_len]\n",
    "y_validation = y[x_train_len:]\n",
    "\n",
    "# print Test and Validation data lenght\n",
    "print(\"Train data points: \", x_train_len)\n",
    "print(\"Validation data points: \", x_validation.shape[0])"
   ]
  },
  {
   "cell_type": "code",
   "execution_count": 28,
   "metadata": {
    "collapsed": true
   },
   "outputs": [],
   "source": [
    "# A class that will define all the regression models as methods\n",
    "\n",
    "class Models(object):\n",
    "    \n",
    "    global seed \n",
    "    seed = 34234\n",
    "    \n",
    "    # Initialization \n",
    "    def __init__(self, x_train, x_validation, y_train, y_validation):\n",
    "        # changing input as dataframe to list\n",
    "        self.x_train = [x_train.iloc[i].tolist() for i in range(len(x_train))]\n",
    "        self.x_validation = [x_validation.iloc[i].tolist() for i in range(len(x_validation))]\n",
    "        self.y_train = y_train.tolist()\n",
    "        self.y_validation = y_validation.tolist()\n",
    "    \n",
    "    \n",
    "    @staticmethod\n",
    "    def print_info(cross_val_scores, mse):\n",
    "        print(\"Cross Validation Scores: \", cross_val_scores)\n",
    "        print(\"Mean Squared Error: \", mse)\n",
    "        \n",
    "        \n",
    "    # Linear Regression \n",
    "    def linear_regression(self, x_train, x_validation,  y_train, y_validation):\n",
    "        reg = linear_model.LinearRegression()\n",
    "        # X = np.array(X).reshape([-1, 1])\n",
    "        reg.fit(self.x_train, self.y_train)\n",
    "        y_pred_list = reg.predict(self.x_validation)\n",
    "        mse = mean_squared_error(self.y_validation, y_pred_list)\n",
    "        kfold = model_selection.KFold(n_splits=10, shuffle=True, random_state=seed)\n",
    "        cross_val_scores = cross_val_score(reg, self.x_train, self.y_train, cv=kfold)\n",
    "        print(\"\\nLinear Regression Model\")\n",
    "        self.print_info(cross_val_scores, mse)\n",
    "        return cross_val_scores, mse\n",
    "        \n",
    "    # Random Forest Regression model \n",
    "    def random_forest(self, x_train, x_validation,  y_train, y_validation):\n",
    "        rfr = RandomForestRegressor(n_estimators=8, max_depth=8, random_state=12, verbose=0)\n",
    "        # X = np.array(X).reshape([-1, 1])\n",
    "        rfr.fit(self.x_train, self.y_train)\n",
    "        y_pred_list = rfr.predict(self.x_validation)\n",
    "        mse = mean_squared_error(self.y_validation, y_pred_list)\n",
    "        kfold = model_selection.KFold(n_splits=10, shuffle=True, random_state=seed)\n",
    "        cross_val_scores = cross_val_score(rfr, self.x_train, self.y_train, cv=kfold)\n",
    "        print(\"\\nRandom Forest Regressor\")\n",
    "        self.print_info(cross_val_scores, mse)\n",
    "        return cross_val_scores, mse\n",
    "            \n",
    "    # Lasso method \n",
    "    def lasso(self, x_train, x_validation,  y_train, y_validation):\n",
    "        reg = linear_model.Lasso(alpha = 0.1)\n",
    "        # X = np.array(X).reshape([-1, 1])\n",
    "        reg.fit(self.x_train, self.y_train)\n",
    "        y_pred_list = reg.predict(self.x_validation)\n",
    "        mse = mean_squared_error(self.y_validation, y_pred_list)\n",
    "        kfold = model_selection.KFold(n_splits=10, shuffle=True, random_state=seed)\n",
    "        cross_val_scores = cross_val_score(reg, self.x_train, self.y_train, cv=kfold)\n",
    "        print(\"\\nLasso Regression Model\")\n",
    "        self.print_info(cross_val_scores, mse)\n",
    "        return cross_val_scores, mse\n",
    "    \n",
    "    # Gradient Boosing Regressor\n",
    "    def GBR(self, x_train, x_validation,  y_train, y_validation):\n",
    "        gbr = GradientBoostingRegressor(n_estimators=175, learning_rate=0.08, max_depth=3, random_state=1232, loss='ls')\n",
    "        gbr.fit(self.x_train, self.y_train)\n",
    "        kfold = model_selection.KFold(n_splits=10, shuffle=True, random_state=seed)\n",
    "        cross_val_scores = cross_val_score(gbr, self.x_train, self.y_train, cv=kfold)\n",
    "        mse = mean_squared_error(self.y_validation, gbr.predict(self.x_validation))\n",
    "        print('\\nGradient Boosting Regressor')\n",
    "        self.print_info(cross_val_scores, mse)\n",
    "        return cross_val_scores, mse\n",
    "        "
   ]
  },
  {
   "cell_type": "code",
   "execution_count": 36,
   "metadata": {},
   "outputs": [
    {
     "data": {
      "text/plain": [
       "{'learning_rate': 0.08, 'max_depth': 3, 'n_estimators': 175}"
      ]
     },
     "execution_count": 36,
     "metadata": {},
     "output_type": "execute_result"
    }
   ],
   "source": [
    "# We use GridSearchCV to find out the best set of parameters for GBR and use it for the \n",
    "# regression model analysis and prediction\n",
    "parameters = {\n",
    "    'n_estimators' : [170, 175, 180],\n",
    "    'learning_rate' : [0.075, 0.08, 0.1],\n",
    "    'max_depth' : [2, 3, 4]\n",
    "}\n",
    "\n",
    "gbr = GradientBoostingRegressor(n_estimators=250, learning_rate=0.1, max_depth=5, random_state=232, loss='ls')\n",
    "gs_cv = GridSearchCV(gbr, parameters).fit(x_train, y_train)\n",
    "gs_cv.best_params_"
   ]
  },
  {
   "cell_type": "code",
   "execution_count": 29,
   "metadata": {},
   "outputs": [
    {
     "name": "stdout",
     "output_type": "stream",
     "text": [
      "\n",
      "Linear Regression Model\n",
      "Cross Validation Scores:  [ 0.87227481  0.67548551  0.90449058  0.94104202  0.88030722  0.86738322\n",
      "  0.91915433  0.85141731  0.86277597  0.88193279]\n",
      "Mean Squared Error:  0.00642972299928\n",
      "\n",
      "Random Forest Regressor\n",
      "Cross Validation Scores:  [ 0.82679335  0.77413702  0.84034061  0.9307927   0.84584099  0.81055686\n",
      "  0.88714915  0.82900835  0.81008047  0.85103189]\n",
      "Mean Squared Error:  0.00463974104232\n",
      "\n",
      "Lasso Regression Model\n",
      "Cross Validation Scores:  [ 0.82184645  0.52314996  0.83037481  0.88988102  0.82755181  0.80340146\n",
      "  0.8543762   0.79259158  0.77180723  0.79460501]\n",
      "Mean Squared Error:  0.011256288244\n",
      "\n",
      "Gradient Boosting Regressor\n",
      "Cross Validation Scores:  [ 0.86860821  0.77703682  0.87675681  0.94462651  0.88829024  0.85537525\n",
      "  0.92434218  0.85437188  0.86130576  0.89372728]\n",
      "Mean Squared Error:  0.00354993031631\n"
     ]
    }
   ],
   "source": [
    "from types import FunctionType\n",
    "\n",
    "methods = [x for x, y in Models.__dict__.items() if type(y) == FunctionType]\n",
    "methods.remove('__init__')\n",
    "# Now calling the all regression methods\n",
    "cross_scores_list, mse_list = [], []\n",
    "for model in methods:\n",
    "    reg = Models(x_train, x_validation, y_train, y_validation)\n",
    "    cross_val_scores, mse = getattr(reg, model)(x_train, x_validation, y_train, y_validation)\n",
    "    cross_scores_list.append(cross_val_scores)\n",
    "    mse_list.append(mse)"
   ]
  },
  {
   "cell_type": "code",
   "execution_count": 30,
   "metadata": {
    "collapsed": true
   },
   "outputs": [],
   "source": [
    "plot_df = pd.DataFrame()\n",
    "for i in range(len(methods)):\n",
    "    plot_df[methods[i]] = cross_scores_list[i]"
   ]
  },
  {
   "cell_type": "code",
   "execution_count": 31,
   "metadata": {},
   "outputs": [
    {
     "name": "stderr",
     "output_type": "stream",
     "text": [
      "c:\\miniconda3\\lib\\site-packages\\seaborn\\categorical.py:2171: UserWarning: The boxplot API has been changed. Attempting to adjust your arguments for the new API (which might not work). Please update your code. See the version 0.6 release notes for more info.\n",
      "  warnings.warn(msg, UserWarning)\n"
     ]
    },
    {
     "data": {
      "image/png": "[encoded data removed]",
      "text/plain": [
       "<matplotlib.figure.Figure at 0x22fc70f0ac8>"
      ]
     },
     "metadata": {},
     "output_type": "display_data"
    }
   ],
   "source": [
    "plt.figure(figsize=(10,6))\n",
    "plt.title('Comparison of Algorithms')\n",
    "sns.boxplot(plot_df)\n",
    "plt.ylim(0.7, 1.0)\n",
    "plt.ylabel('Cross Val Score')\n",
    "plt.show()"
   ]
  },
  {
   "cell_type": "code",
   "execution_count": 32,
   "metadata": {},
   "outputs": [
    {
     "data": {
      "image/png": "[encoded data removed]",
      "text/plain": [
       "<matplotlib.figure.Figure at 0x22fc7308c88>"
      ]
     },
     "metadata": {},
     "output_type": "display_data"
    }
   ],
   "source": [
    "# Plot Mean Squared Error\n",
    "\n",
    "plt.plot(mse_list, c='b')\n",
    "plt.title('Comparision of Algorithms')\n",
    "plt.ylabel('Mean Squared Error')\n",
    "plt.ylim(0.0008, 0.015)\n",
    "x = np.array([0,1,2,3])\n",
    "plt.scatter(x, mse_list, c='r', marker=\"s\")\n",
    "plt.xticks(x, methods)\n",
    "plt.show()"
   ]
  },
  {
   "cell_type": "markdown",
   "metadata": {},
   "source": [
    "### Prediction with Test Data\n",
    "\n",
    "TODO:\n",
    "Now, we need to clean test data into the form our prediction model takes as input and predict the 'SalePrice' of the houses."
   ]
  }
 ],
 "metadata": {
  "kernelspec": {
   "display_name": "Python 3",
   "language": "python",
   "name": "python3"
  },
  "language_info": {
   "codemirror_mode": {
    "name": "ipython",
    "version": 3
   },
   "file_extension": ".py",
   "mimetype": "text/x-python",
   "name": "python",
   "nbconvert_exporter": "python",
   "pygments_lexer": "ipython3",
   "version": "3.6.0"
  }
 },
 "nbformat": 4,
 "nbformat_minor": 2
}
